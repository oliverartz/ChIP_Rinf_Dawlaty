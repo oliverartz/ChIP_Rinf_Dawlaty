{
  "nbformat": 4,
  "nbformat_minor": 0,
  "metadata": {
    "colab": {
      "name": "20211030_ChIPseq_Rinf_Meelad.ipynb",
      "provenance": [],
      "collapsed_sections": [],
      "mount_file_id": "1BJhix78NGsNNB1b75cTIau-SU2xOyael",
      "authorship_tag": "ABX9TyOtEEwE6CrMLc/U1i6Q+Fyp",
      "include_colab_link": true
    },
    "kernelspec": {
      "display_name": "Python 3",
      "name": "python3"
    },
    "language_info": {
      "name": "python"
    }
  },
  "cells": [
    {
      "cell_type": "markdown",
      "metadata": {
        "id": "view-in-github",
        "colab_type": "text"
      },
      "source": [
        "<a href=\"https://colab.research.google.com/github/oliverartz/ChIP_Rinf_Dawlaty/blob/main/20211030_ChIPseq_Rinf_Meelad.ipynb\" target=\"_parent\"><img src=\"https://colab.research.google.com/assets/colab-badge.svg\" alt=\"Open In Colab\"/></a>"
      ]
    },
    {
      "cell_type": "markdown",
      "metadata": {
        "id": "Cyc_YREO1gVx"
      },
      "source": [
        "#Rinf ChIP-seq analysis\n",
        "This notebook is to recapitualte the data analysis conducted in a recent publication from the Dawlaty Lab at Albert Einstein in New York. The publication is entitle \"Rinf Regulates Pluripotency Network Genes and Tet\n",
        "Enzymes in Embryonic Stem Cells\" (Ravichandran et al., 2019) and was published Cell Reports. \n",
        "\n",
        "https://doi.org/10.1016/j.celrep.2019.07.080\n",
        "\n",
        "All data and analysis tools are publicly available."
      ]
    },
    {
      "cell_type": "markdown",
      "metadata": {
        "id": "fPhJLVxslEtG"
      },
      "source": [
        "##Mount google drive\n",
        "Since the storage of the Colab runtimes is rather limited, I need to use storage from my google drive."
      ]
    },
    {
      "cell_type": "code",
      "metadata": {
        "colab": {
          "base_uri": "https://localhost:8080/"
        },
        "id": "kiC3Kt1aDyGe",
        "outputId": "676a6eb0-f2b0-452c-8a32-bef9dc6a6f29"
      },
      "source": [
        "from google.colab import drive\n",
        "drive.mount('/content/drive')"
      ],
      "execution_count": 3,
      "outputs": [
        {
          "output_type": "stream",
          "name": "stdout",
          "text": [
            "Drive already mounted at /content/drive; to attempt to forcibly remount, call drive.mount(\"/content/drive\", force_remount=True).\n"
          ]
        }
      ]
    },
    {
      "cell_type": "markdown",
      "metadata": {
        "id": "PmhLAykQ2VB1"
      },
      "source": [
        "##Download data from GEO"
      ]
    },
    {
      "cell_type": "code",
      "metadata": {
        "id": "lk6IDjyw1SMG"
      },
      "source": [
        "### install conda ###\n",
        "!wget https://repo.anaconda.com/miniconda/Miniconda3-py37_4.8.2-Linux-x86_64.sh\n",
        "!chmod +x Miniconda3-py37_4.8.2-Linux-x86_64.sh\n",
        "!bash ./Miniconda3-py37_4.8.2-Linux-x86_64.sh -b -f -p /usr/local\n",
        "import sys\n",
        "sys.path.append('/usr/local/lib/python3.7/site-packages/')\n",
        "\n",
        "!rm Miniconda3-py37_4.8.2-Linux-x86_64.sh\n",
        "\n",
        "### install SRA toolkit ###\n",
        "!conda install -y -c bioconda sra-tools"
      ],
      "execution_count": null,
      "outputs": []
    },
    {
      "cell_type": "code",
      "metadata": {
        "id": "SMon4hpq3XX_"
      },
      "source": [
        "%%bash\n",
        "### Takes some time to download (10 - 35 min) ###\n",
        "### download ChIP-seq data ###\n",
        "cd /content/drive/MyDrive/Colab_data/20211030_ChIP_Meelad\n",
        "SRR_accessions=\"SRR9165578 SRR9165579 SRR9165580 SRR9165581 SRR9165582\"\n",
        "\n",
        "for i in $SRR_accessions; do\n",
        "    fastq-dump $i\n",
        "done"
      ],
      "execution_count": null,
      "outputs": []
    },
    {
      "cell_type": "code",
      "metadata": {
        "id": "Mhk3mtja5Tjf"
      },
      "source": [
        "%%bash\n",
        "### rename and move samples ###\n",
        "cd /content/drive/MyDrive/Colab_data/20211030_ChIP_Meelad\n",
        "mv SRR9165578.fastq IP_WT_1.fastq\n",
        "mv SRR9165579.fastq IP_WT_2.fastq\n",
        "mv SRR9165580.fastq IP_KO.fastq\n",
        "mv SRR9165581.fastq inp_WT.fastq\n",
        "mv SRR9165582.fastq inp_KO.fastq\n",
        "\n",
        "mkdir fastq\n",
        "mv *.fastq fastq"
      ],
      "execution_count": null,
      "outputs": []
    },
    {
      "cell_type": "markdown",
      "metadata": {
        "id": "FGpjk2WFBO5o"
      },
      "source": [
        "##Quality Control"
      ]
    },
    {
      "cell_type": "markdown",
      "metadata": {
        "id": "brf_iFBoACrc"
      },
      "source": [
        "##Read Mapping"
      ]
    },
    {
      "cell_type": "code",
      "metadata": {
        "id": "9bQLsdHr9f69"
      },
      "source": [
        "### install bowtie2 ###\n",
        "!conda config --set channel_priority stric\n",
        "!conda install -y -c bioconda bowtie2"
      ],
      "execution_count": null,
      "outputs": []
    },
    {
      "cell_type": "code",
      "metadata": {
        "id": "VKi9485XzchO"
      },
      "source": [
        "%%bash\n",
        "### download pre-build mm10 genome index ###\n",
        "cd /content/drive/MyDrive/Colab_data/20211030_ChIP_Meelad\n",
        "mkdir bowtie2_genome_index\n",
        "cd bowtie2_genome_index\n",
        "wget https://genome-idx.s3.amazonaws.com/bt/mm10.zip\n",
        "unzip mm10.zip\n",
        "\n",
        "rm mm10.zip"
      ],
      "execution_count": null,
      "outputs": []
    },
    {
      "cell_type": "code",
      "metadata": {
        "colab": {
          "background_save": true
        },
        "id": "Fn9Cm-XKHwVs"
      },
      "source": [
        "%%bash\n",
        "### takes >5 h to run ###\n",
        "### read alignment ###\n",
        "cd /content/drive/MyDrive/Colab_data/20211030_ChIP_Meelad/bowtie2_genome_index\n",
        "\n",
        "bowtie2 -p 8 -x mm10 -U ../fastq/IP_KO.fastq -S IP_KO.sam\n",
        "bowtie2 -p 8 -x mm10 -U ../fastq/IP_WT_1.fastq -S IP_WT_1.sam\n",
        "bowtie2 -p 8 -x mm10 -U ../fastq/IP_WT_2.fastq -S IP_WT_2.sam\n",
        "bowtie2 -p 8 -x mm10 -U ../fastq/WT_inp.fastq -S inp_WT.sam\n",
        "bowtie2 -p 8 -x mm10 -U ../fastq/KO_inp.fastq -S inp_KO.sam"
      ],
      "execution_count": null,
      "outputs": []
    },
    {
      "cell_type": "code",
      "metadata": {
        "id": "ZeT53W32MIJN"
      },
      "source": [
        "%%bash\n",
        "### move aligned reads to new folder ###\n",
        "cd /content/drive/MyDrive/Colab_data/20211030_ChIP_Meelad/\n",
        "mkdir aligned_reads\n",
        "\n",
        "cd /content/drive/MyDrive/Colab_data/20211030_ChIP_Meelad/bowtie2_genome_index/\n",
        "mv IP_KO.sam ../aligned_reads/IP_KO.sam\n",
        "mv IP_WT_1.sam ../aligned_reads/IP_WT_1.sam\n",
        "mv IP_WT_2.sam ../aligned_reads/IP_WT_2.sam\n",
        "mv WT_inp.sam ../aligned_reads/inp_WT.sam\n",
        "mv KO_inp.sam ../aligned_reads/inp_KO.sam"
      ],
      "execution_count": null,
      "outputs": []
    },
    {
      "cell_type": "markdown",
      "metadata": {
        "id": "JJwmaCPQILY_"
      },
      "source": [
        "##Filtering bad quality reads and PCR duplicates, convert to bam"
      ]
    },
    {
      "cell_type": "code",
      "metadata": {
        "id": "q3_cedWiIV1O"
      },
      "source": [
        "### install samtools ###\n",
        "!conda install -y -c bioconda samtools"
      ],
      "execution_count": null,
      "outputs": []
    },
    {
      "cell_type": "code",
      "metadata": {
        "id": "ODLkC-xTJJUO"
      },
      "source": [
        "%%bash\n",
        "### takes 30 min to run ###\n",
        "### filter bad quality reads ###\n",
        "quality_cutoff=20\n",
        "\n",
        "cd /content/drive/MyDrive/Colab_data/20211030_ChIP_Meelad/aligned_reads\n",
        "\n",
        "samtools view -bS -q quality_cutoff IP_KO.sam > IP_KO_hiq.bam\n",
        "samtools view -bS -q quality_cutoff IP_WT_1.sam > IP_WT_1_hiq.bam\n",
        "samtools view -bS -q quality_cutoff IP_WT_2.sam > IP_WT_2_hiq.bam\n",
        "samtools view -bS -q quality_cutoff inp_KO.sam > inp_KO_hiq.bam\n",
        "samtools view -bS -q quality_cutoff inp_WT.sam > inp_WT_hiq.bam\n",
        "\n",
        "ls -lh *hiq.bam"
      ],
      "execution_count": null,
      "outputs": []
    },
    {
      "cell_type": "code",
      "metadata": {
        "id": "qJ2YQWzC6adH"
      },
      "source": [
        "%%bash\n",
        "### remove PCR duplicates ###\n",
        "cd /content/drive/MyDrive/Colab_data/20211030_ChIP_Meelad/aligned_reads\n",
        "samtools rmdup -S IP_KO_hiq.bam IP_KO_filt.bam\n",
        "samtools rmdup -S IP_WT_1_hiq.bam IP_WT_1_filt.bam\n",
        "samtools rmdup -S IP_WT_2_hiq.bam IP_WT_2_filt.bam\n",
        "samtools rmdup -S inp_KO_hiq.bam inp_KO_filt.bam\n",
        "samtools rmdup -S inp_WT_hiq.bam inp_WT_filt.bam\n",
        "\n",
        "ls -lh *filt.bam"
      ],
      "execution_count": null,
      "outputs": []
    },
    {
      "cell_type": "code",
      "metadata": {
        "id": "bFvwr1zDzt81"
      },
      "source": [
        "%%bash\n",
        "### takes 10 min to run ###\n",
        "### merge bam for WT ###\n",
        "cd /content/drive/MyDrive/Colab_data/20211030_ChIP_Meelad/aligned_reads\n",
        "samtools merge IP_WT_filt_merge.bam IP_WT_1_filt.bam IP_WT_2_filt.bam"
      ],
      "execution_count": 16,
      "outputs": []
    },
    {
      "cell_type": "code",
      "metadata": {
        "id": "aXJCYyIbnO_B"
      },
      "source": [
        "%%bash\n",
        "### sort and index ###\n",
        "cd /content/drive/MyDrive/Colab_data/20211030_ChIP_Meelad/aligned_reads\n",
        "samtools sort IP_WT_filt_merge.bam -o IP_WT_filt_merge_sorted.bam\n",
        "samtools index IP_WT_filt_merge_sorted.bam"
      ],
      "execution_count": null,
      "outputs": []
    },
    {
      "cell_type": "markdown",
      "metadata": {
        "id": "S5dwmV7z44M_"
      },
      "source": [
        "##Generating bedgraph for plotting"
      ]
    },
    {
      "cell_type": "code",
      "metadata": {
        "id": "SPnd2xk2vE9D"
      },
      "source": [
        "%%bash\n",
        "### install bedtools ###\n",
        "conda install -y -c bioconda bedtools"
      ],
      "execution_count": null,
      "outputs": []
    },
    {
      "cell_type": "code",
      "metadata": {
        "id": "cCRDfGd45Y7Q"
      },
      "source": [
        "%%bash\n",
        "### make genome file for bedtools ###\n",
        "conda install -y -c bioconda ucsc-fetchchromsizes\n",
        "cd /content/drive/MyDrive/Colab_data/20211030_ChIP_Meelad/genome\n",
        "fetchChromSizes mm10 > mm10.chrom.sizes"
      ],
      "execution_count": null,
      "outputs": []
    },
    {
      "cell_type": "code",
      "metadata": {
        "id": "hRKoJklGzUM_"
      },
      "source": [
        "%%bash\n",
        "### takes 35 min to run ###\n",
        "### generate bedgraph ###\n",
        "cd /content/drive/MyDrive/Colab_data/20211030_ChIP_Meelad/aligned_reads\n",
        "genomeCoverageBed -bg -ibam IP_WT_filt_merge_sorted.bam -g ../genome/mm10.chrom.sizes > IP_WT_filt_merge_sorted.bedgraph"
      ],
      "execution_count": null,
      "outputs": []
    },
    {
      "cell_type": "markdown",
      "metadata": {
        "id": "q6CABIo5KG4e"
      },
      "source": [
        "##Peak calling"
      ]
    },
    {
      "cell_type": "code",
      "metadata": {
        "id": "UeCcZrXXKLO0"
      },
      "source": [
        "### install MACS2 ###\n",
        "!conda config --set channel_priority stric\n",
        "!conda install -y -c bioconda macs2"
      ],
      "execution_count": null,
      "outputs": []
    },
    {
      "cell_type": "code",
      "metadata": {
        "id": "mXwP41UtLfNK"
      },
      "source": [
        "%%bash\n",
        "### takes 15 min to run ###\n",
        "### peak calling ###\n",
        "cd /content/drive/MyDrive/Colab_data/20211030_ChIP_Meelad/aligned_reads\n",
        "mkdir ../MACS2_peaks\n",
        "\n",
        "### on filtered BAM files ###\n",
        "macs2 callpeak -t IP_KO_filt.bam -c inp_KO_filt.bam -f BAM -g mm --outdir ../MACS2_peaks/KO_filtered -n KO\n",
        "macs2 callpeak -t IP_WT_2_filt.bam -c inp_WT_filt.bam -f BAM -g mm --outdir ../MACS2_peaks/WT_merge_filtered -n WT_merge"
      ],
      "execution_count": null,
      "outputs": []
    },
    {
      "cell_type": "markdown",
      "metadata": {
        "id": "M2TRcuBQnmy2"
      },
      "source": [
        "##Downstream analysis of peaks and quality control\n",
        "\n",
        "Please see separate R notebook for more analyses and results."
      ]
    },
    {
      "cell_type": "markdown",
      "metadata": {
        "id": "uoSYmyheySQQ"
      },
      "source": [
        "###Motif analysis"
      ]
    },
    {
      "cell_type": "code",
      "metadata": {
        "id": "oNJZJc4lyOFt"
      },
      "source": [
        "%%bash\n",
        "### install HOMER and install mm10 ###\n",
        "conda install -y -c bioconda homer\n",
        "perl /usr/local/share/homer/.//configureHomer.pl -install mm10"
      ],
      "execution_count": null,
      "outputs": []
    },
    {
      "cell_type": "code",
      "metadata": {
        "id": "a13xIwyERdZa"
      },
      "source": [
        "%%bash\n",
        "### run HOMER ###\n",
        "cd /content/drive/MyDrive/Colab_data/20211030_ChIP_Meelad/MACS2_peaks/\n",
        "mkdir ../HOMER_motifs\n",
        "\n",
        "findMotifsGenome.pl WT_merge_filtered/WT_merge_peaks.narrowPeak mm10 ../HOMER_motifs"
      ],
      "execution_count": null,
      "outputs": []
    }
  ]
}